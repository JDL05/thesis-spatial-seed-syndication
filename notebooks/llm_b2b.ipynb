{
 "cells": [
  {
   "cell_type": "markdown",
   "id": "67590830",
   "metadata": {},
   "source": [
    "# LLM-Approach: `B2B`-Classification"
   ]
  },
  {
   "cell_type": "markdown",
   "id": "2f276672",
   "metadata": {},
   "source": [
    "## Loading packages and set work-environment"
   ]
  },
  {
   "cell_type": "code",
   "execution_count": null,
   "id": "11e40316",
   "metadata": {},
   "outputs": [],
   "source": [
    "import os\n",
    "import pandas as pd\n",
    "\n",
    "from datasets import load_dataset\n",
    "from datasets import DatasetDict\n",
    "from transformers import (\n",
    "    AutoTokenizer,\n",
    "    AutoModelForSequenceClassification,\n",
    "    TrainingArguments,\n",
    "    Trainer,\n",
    "    DataCollatorWithPadding"
   ]
  },
  {
   "cell_type": "code",
   "execution_count": null,
   "id": "89c21944",
   "metadata": {},
   "outputs": [],
   "source": [
    "os.chdir('/Users/janlinzner/Projects/thesis-spatial-seed-syndication') "
   ]
  },
  {
   "cell_type": "markdown",
   "id": "a74adafd",
   "metadata": {},
   "source": [
    "## Pre-process data"
   ]
  },
  {
   "cell_type": "markdown",
   "id": "94ebdc10",
   "metadata": {},
   "source": [
    "Load two datasets: one for `training` and one for `prediction`"
   ]
  },
  {
   "cell_type": "code",
   "execution_count": null,
   "id": "997efbaf",
   "metadata": {},
   "outputs": [],
   "source": [
    "data_files = {\n",
    "    \"train\":   \"data/business_orientation/companies_business_focus_save.csv\",   # has Description & B2B Binary\n",
    "    \"predict\": \"data/business_focus/df_missing_b2b.csv\"        # has Description only\n",
    "}\n",
    "\n",
    "ds = load_dataset(\"csv\", data_files=data_files)\n",
    "\n",
    "ds[\"train\"] = ds[\"train\"] \\\n",
    "    .rename_column(\"Description\", \"text\") \\\n",
    "    .rename_column(\"B2B Binary\", \"label\")\n",
    "\n",
    "ds[\"predict\"] = ds[\"predict\"] \\\n",
    "    .rename_column(\"Description\", \"text\")"
   ]
  },
  {
   "cell_type": "markdown",
   "id": "9b60ecbf",
   "metadata": {},
   "source": [
    "Clean the prediction dataset and only keep the description"
   ]
  },
  {
   "cell_type": "code",
   "execution_count": null,
   "id": "c2e6e785",
   "metadata": {},
   "outputs": [],
   "source": [
    "df_predict = pd.read_csv(data_files[\"predict\"])\n",
    "df_predict = df_predict.rename(columns={\"organization_description\": \"Description\"})\n",
    "df_predict = df_predict[[\"Description\"]]\n",
    "df_predict.to_csv(\"data/business_orientation/df_missing_b2b_minimal.csv\", index=False)\n",
    "\n",
    "data_files[\"predict\"] = \"data/business_orientation/df_missing_b2b_minimal.csv\""
   ]
  },
  {
   "cell_type": "markdown",
   "id": "7e95057d",
   "metadata": {},
   "source": [
    "## Set Model"
   ]
  },
  {
   "cell_type": "markdown",
   "id": "08c5437d",
   "metadata": {},
   "source": [
    "We use the distilbert-base-uncased model and finetune the weights ([Link to Huggingface](https://huggingface.co/distilbert/distilbert-base-uncased))"
   ]
  },
  {
   "cell_type": "code",
   "execution_count": null,
   "id": "742abbf0",
   "metadata": {},
   "outputs": [],
   "source": [
    "model_name = \"distilbert-base-uncased\" \n",
    "tokenizer  = AutoTokenizer.from_pretrained(model_name)\n",
    "model      = AutoModelForSequenceClassification.from_pretrained(\n",
    "    model_name,\n",
    "    num_labels=2                     \n",
    ")"
   ]
  },
  {
   "cell_type": "markdown",
   "id": "08316fb9",
   "metadata": {},
   "source": [
    "## Training Pre-Processing"
   ]
  },
  {
   "cell_type": "markdown",
   "id": "f81a012f",
   "metadata": {},
   "source": [
    "Tokenization"
   ]
  },
  {
   "cell_type": "code",
   "execution_count": null,
   "id": "b1cd449b",
   "metadata": {},
   "outputs": [],
   "source": [
    "def preprocess_train(batch):\n",
    "    toks = tokenizer(\n",
    "        batch[\"text\"],\n",
    "        truncation=True,\n",
    "        padding=\"max_length\",\n",
    "        max_length=128\n",
    "    )\n",
    "    toks[\"labels\"] = batch[\"label\"] \n",
    "    return toks\n",
    "\n",
    "ds[\"train\"] = ds[\"train\"].map(\n",
    "    preprocess_train,\n",
    "    batched=True,\n",
    "    remove_columns=[\n",
    "        \"Organization Name\",\n",
    "        \"Organization Name URL\",\n",
    "        \"text\",\n",
    "        \"label\"\n",
    "    ]\n",
    ")\n",
    "\n",
    "train_test_split = ds[\"train\"].train_test_split(test_size=0.2, seed=42)\n",
    "ds = DatasetDict({\n",
    "    \"train\": train_test_split[\"train\"],\n",
    "    \"validation\": train_test_split[\"test\"],\n",
    "    \"predict\": ds[\"predict\"]\n",
    "})"
   ]
  },
  {
   "cell_type": "code",
   "execution_count": null,
   "id": "7fc0a2fb",
   "metadata": {},
   "outputs": [],
   "source": [
    "def preprocess_predict(batch):\n",
    "    return tokenizer(\n",
    "        batch[\"text\"],\n",
    "        truncation=True,\n",
    "        padding=\"max_length\",\n",
    "        max_length=128\n",
    "    )\n",
    "\n",
    "ds[\"predict\"] = ds[\"predict\"].map(\n",
    "    preprocess_predict,\n",
    "    batched=True,\n",
    "    remove_columns=[\"text\"]\n",
    ")"
   ]
  },
  {
   "cell_type": "code",
   "execution_count": null,
   "id": "fcfa1398",
   "metadata": {},
   "outputs": [],
   "source": [
    "data_collator = DataCollatorWithPadding(tokenizer)"
   ]
  },
  {
   "cell_type": "markdown",
   "id": "b0505ce0",
   "metadata": {},
   "source": [
    "## Definition of training parameters and trainer"
   ]
  },
  {
   "cell_type": "code",
   "execution_count": null,
   "id": "c2ab7a90",
   "metadata": {},
   "outputs": [],
   "source": [
    "training_args = TrainingArguments(\n",
    "    output_dir=\"distilbert_finetuned_vc\",\n",
    "    logging_steps = 100 ,\n",
    "    per_device_train_batch_size=8,\n",
    "    gradient_accumulation_steps=2,\n",
    "    num_train_epochs=1,\n",
    "    learning_rate=2e-5,\n",
    "    weight_decay=0.01,\n",
    "    eval_strategy=\"steps\",       \n",
    "    eval_steps=100,                \n",
    "    save_strategy=\"steps\",\n",
    "    save_steps=100,               \n",
    "    save_total_limit=1,          \n",
    "    load_best_model_at_end=True,\n",
    "    metric_for_best_model=\"eval_loss\",\n",
    "    greater_is_better=False,  \n",
    "    seed=42\n",
    ")"
   ]
  },
  {
   "cell_type": "code",
   "execution_count": null,
   "id": "bfb632ba",
   "metadata": {},
   "outputs": [],
   "source": [
    "trainer = Trainer(\n",
    "    model=model,\n",
    "    args=training_args,\n",
    "    train_dataset=ds[\"train\"],\n",
    "    eval_dataset=ds[\"validation\"],  \n",
    "    data_collator=data_collator,\n",
    "    tokenizer=tokenizer\n",
    ")"
   ]
  },
  {
   "cell_type": "markdown",
   "id": "cc3dfbd6",
   "metadata": {},
   "source": [
    "## Training process and validation"
   ]
  },
  {
   "cell_type": "code",
   "execution_count": null,
   "id": "e046c57b",
   "metadata": {},
   "outputs": [],
   "source": [
    "trainer.train()\n",
    "validation_metrics = trainer.evaluate()\n",
    "print(\"Validation Loss:\", validation_metrics[\"eval_loss\"])"
   ]
  },
  {
   "cell_type": "markdown",
   "id": "d8b7c0e3",
   "metadata": {},
   "source": [
    "## Labelling and result export"
   ]
  },
  {
   "cell_type": "code",
   "execution_count": null,
   "id": "cb059884",
   "metadata": {},
   "outputs": [],
   "source": [
    "preds = trainer.predict(ds[\"predict\"])\n",
    "pred_labels = preds.predictions.argmax(-1)"
   ]
  },
  {
   "cell_type": "code",
   "execution_count": null,
   "id": "530336ae",
   "metadata": {},
   "outputs": [],
   "source": [
    "df = pd.read_csv(\"data/business_orientation/df_missing_b2b.csv\")\n",
    "df[\"pred_label\"] = pred_labels\n",
    "df.to_csv(\"data/business_orientation/companies_business_focus_llm.csv\", index=False)\n",
    "print(\"✅ Done — predictions saved to companies_business_focus_llm.csv\")"
   ]
  }
 ],
 "metadata": {
  "kernelspec": {
   "display_name": "Python 3",
   "language": "python",
   "name": "python3"
  },
  "language_info": {
   "codemirror_mode": {
    "name": "ipython",
    "version": 3
   },
   "file_extension": ".py",
   "mimetype": "text/x-python",
   "name": "python",
   "nbconvert_exporter": "python",
   "pygments_lexer": "ipython3",
   "version": "3.12.5"
  }
 },
 "nbformat": 4,
 "nbformat_minor": 5
}
