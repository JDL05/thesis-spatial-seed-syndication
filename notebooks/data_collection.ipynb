{
 "cells": [
  {
   "cell_type": "markdown",
   "id": "d236c27a",
   "metadata": {},
   "source": [
    "# Data Collection"
   ]
  },
  {
   "cell_type": "markdown",
   "id": "70b1492c",
   "metadata": {},
   "source": [
    "Short introduction text"
   ]
  },
  {
   "cell_type": "markdown",
   "id": "d8c56361",
   "metadata": {},
   "source": [
    "## 1: Coding Setup"
   ]
  },
  {
   "cell_type": "markdown",
   "id": "fcde1121",
   "metadata": {},
   "source": [
    "### Load Packages"
   ]
  },
  {
   "cell_type": "code",
   "execution_count": null,
   "id": "87d6187e",
   "metadata": {},
   "outputs": [],
   "source": [
    "# All packages (see requirements.txt)\n",
    "import os\n",
    "from dotenv import load_dotenv"
   ]
  },
  {
   "cell_type": "markdown",
   "id": "e20d8674",
   "metadata": {},
   "source": [
    "### Set Working Environment"
   ]
  },
  {
   "cell_type": "code",
   "execution_count": null,
   "id": "604f4cfb",
   "metadata": {},
   "outputs": [],
   "source": [
    "# ---insert your path here ---\n",
    "os.chdir('/Users/janlinzner/Projects/thesis-spatial-seed-syndication') "
   ]
  },
  {
   "cell_type": "markdown",
   "id": "1dd9976f",
   "metadata": {},
   "source": [
    "### Load Api-keys"
   ]
  },
  {
   "cell_type": "markdown",
   "id": "e14a7b25",
   "metadata": {},
   "source": [
    "Explanation about geocage and how to get an api-key"
   ]
  },
  {
   "cell_type": "code",
   "execution_count": null,
   "id": "6d581f56",
   "metadata": {},
   "outputs": [],
   "source": [
    "# load api keys from .env file or insert the key directly\n",
    "load_dotenv()\n",
    "api_key = os.getenv(\"geocage\")"
   ]
  }
 ],
 "metadata": {
  "kernelspec": {
   "display_name": ".venv",
   "language": "python",
   "name": "python3"
  },
  "language_info": {
   "codemirror_mode": {
    "name": "ipython",
    "version": 3
   },
   "file_extension": ".py",
   "mimetype": "text/x-python",
   "name": "python",
   "nbconvert_exporter": "python",
   "pygments_lexer": "ipython3",
   "version": "3.13.2"
  }
 },
 "nbformat": 4,
 "nbformat_minor": 5
}
